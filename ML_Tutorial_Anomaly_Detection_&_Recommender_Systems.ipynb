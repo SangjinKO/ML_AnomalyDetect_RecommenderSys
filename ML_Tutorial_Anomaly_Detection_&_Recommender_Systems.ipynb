{
  "nbformat": 4,
  "nbformat_minor": 0,
  "metadata": {
    "kernelspec": {
      "display_name": "Python 3",
      "language": "python",
      "name": "python3"
    },
    "language_info": {
      "codemirror_mode": {
        "name": "ipython",
        "version": 3
      },
      "file_extension": ".py",
      "mimetype": "text/x-python",
      "name": "python",
      "nbconvert_exporter": "python",
      "pygments_lexer": "ipython3",
      "version": "3.6.8"
    },
    "colab": {
      "name": "ML_Tutorial_Anomaly Detection & Recommender Systems.ipynb",
      "provenance": [],
      "collapsed_sections": []
    }
  },
  "cells": [
    {
      "cell_type": "code",
      "metadata": {
        "id": "HwSblWSIX-qM",
        "colab_type": "code",
        "colab": {}
      },
      "source": [
        "import sys\n",
        "import os\n",
        "path = ''\n",
        "sys_path = os.path.join(path)\n",
        "sys.path.append(sys_path)\n",
        "\n",
        "import numpy as np\n",
        "from matplotlib import pyplot\n",
        "import matplotlib as mpl\n",
        "from scipy import optimize \n",
        "from scipy.io import loadmat # load MATLAB mat datafile format\n",
        "import utils # library written for this exercise providing additional functions\n",
        "\n",
        "# tells matplotlib to embed plots within the notebook\n",
        "%matplotlib inline "
      ],
      "execution_count": 0,
      "outputs": []
    },
    {
      "cell_type": "code",
      "metadata": {
        "id": "Z2HGDxy4jTct",
        "colab_type": "code",
        "outputId": "9fd5cfc2-f8e2-4ad7-c201-a91dda894d2b",
        "colab": {
          "base_uri": "https://localhost:8080/",
          "height": 282
        }
      },
      "source": [
        "### TASK1: Abnomaly Detection ###\n",
        "### Detect anomalous behavior in server computers. The features are throughput (mb/s) and latency (ms) of response of each server.\n",
        "\n",
        "# Load & visualize data\n",
        "data = loadmat(os.path.join(prefix, customized_path_to_your_homework, 'Data', 'ex8data1.mat'))\n",
        "X, Xval, yval = data['X'], data['Xval'], data['yval'][:, 0]\n",
        "\n",
        "pyplot.plot(X[:, 0], X[:, 1], 'bx', mew=2, mec='k', ms=6)\n",
        "pyplot.axis([0, 30, 0, 30])\n",
        "pyplot.xlabel('Latency (ms)')\n",
        "pyplot.ylabel('Throughput (mb/s)')\n",
        "pass"
      ],
      "execution_count": 11,
      "outputs": [
        {
          "output_type": "display_data",
          "data": {
            "image/png": "[encoded data removed]",
            "text/plain": [
              "<Figure size 432x288 with 1 Axes>"
            ]
          },
          "metadata": {
            "tags": [],
            "needs_background": "light"
          }
        }
      ]
    },
    {
      "cell_type": "code",
      "metadata": {
        "id": "Ke2Zr2nqjTcx",
        "colab_type": "code",
        "colab": {}
      },
      "source": [
        "# Func1: estimate gaussian distribution (mu, sigma**2)\n",
        "def estimateGaussian(X):\n",
        "    m, n = X.shape\n",
        "    mu = np.zeros(n)\n",
        "    sigma2 = np.zeros(n)\n",
        "    mu = 1 / m * X.sum(axis=0)\n",
        "    sigma2 = 1 / m * np.sum((X - mu)**2, axis = 0)\n",
        "    return mu, sigma2\n",
        "\n",
        "# Func2: select threshold (epsilon) by comparing F1 scores\n",
        "def selectThreshold(yval, pval):\n",
        "    bestEpsilon = 0\n",
        "    bestF1 = 0\n",
        "    F1 = 0\n",
        "   \n",
        "    for epsilon in np.linspace(1.01*min(pval), max(pval), 1000):\n",
        "        fp = np.sum((yval == 0) & (pval < epsilon))\n",
        "        tp = np.sum((yval == 1) & (pval < epsilon))\n",
        "        fn = np.sum((yval == 1) & (pval >= epsilon))\n",
        "        prec = tp / (tp + fp)\n",
        "        rec = tp / (tp + fn)\n",
        "        F1 = 2 * prec * rec / (prec + rec)\n",
        "        if F1 > bestF1:\n",
        "            bestF1 = F1\n",
        "            bestEpsilon = epsilon\n",
        "\n",
        "    return bestEpsilon, bestF1"
      ],
      "execution_count": 0,
      "outputs": []
    },
    {
      "cell_type": "code",
      "metadata": {
        "id": "aT2rLPdCjTdA",
        "colab_type": "code",
        "outputId": "28f3b41f-db17-4e67-9e3f-fdd6839bbda0",
        "colab": {
          "base_uri": "https://localhost:8080/",
          "height": 297
        }
      },
      "source": [
        "# estimate gaussian distribution (mu, sigma**2)\n",
        "mu, sigma2 = estimateGaussian(X)\n",
        "\n",
        "#  get the density of the multivariate normal at each data point from Training set\n",
        "p = utils.multivariateGaussian(X, mu, sigma2)\n",
        "\n",
        "# get the threshold (eplison) from Cross-validation set\n",
        "pval = utils.multivariateGaussian(Xval, mu, sigma2)\n",
        "epsilon, F1 = selectThreshold(yval, pval)\n",
        "\n",
        "#  Find the outliers in the training set\n",
        "outliers = p < epsilon\n",
        "\n",
        "#  Visualize the result (Red circles for abnomalies)\n",
        "utils.visualizeFit(X,  mu, sigma2)\n",
        "pyplot.xlabel('Latency (ms)')\n",
        "pyplot.ylabel('Throughput (mb/s)')\n",
        "pyplot.tight_layout()\n",
        "pyplot.plot(X[outliers, 0], X[outliers, 1], 'ro', ms=10, mfc='None', mew=2)\n",
        "pass"
      ],
      "execution_count": 26,
      "outputs": [
        {
          "output_type": "display_data",
          "data": {
            "image/png": "[encoded data removed]",
            "text/plain": [
              "<Figure size 432x288 with 1 Axes>"
            ]
          },
          "metadata": {
            "tags": [],
            "needs_background": "light"
          }
        }
      ]
    },
    {
      "cell_type": "code",
      "metadata": {
        "id": "y1hmEoCljTdN",
        "colab_type": "code",
        "colab": {}
      },
      "source": [
        "### TASK2: Recommender Systems ###\n",
        "### collaborative filtering learning algorithm\n",
        "\n",
        "# Load data\n",
        "### For a dataset of movie ratings ([MovieLens 100k Dataset](https://grouplens.org/datasets/movielens/) from GroupLens Research)\n",
        "### This dataset consists of ratings on a scale of 1 to 5. The dataset has 943 users and 1,682 movies. \n",
        "data = loadmat(os.path.join(prefix, customized_path_to_your_homework, 'Data', 'ex8_movies.mat'))\n",
        "Y, R = data['Y'], data['R']\n",
        "# Y is raitings of 1682 movies on 94. users\n",
        "# R is index having 1 if and only if user gave a rating to movie\n",
        "\n",
        "# Example of get statistics (average rating)\n",
        "# print('Average rating for movie 1 (Toy Story): %f / 5' %np.mean(Y[0, R[0, :] == 1]))"
      ],
      "execution_count": 0,
      "outputs": []
    },
    {
      "cell_type": "code",
      "metadata": {
        "id": "W_f3L_e-jTdl",
        "colab_type": "code",
        "colab": {}
      },
      "source": [
        "## func1: Collaborative filtering cost function: compute the cost function and gradient for collaborative filtering\n",
        "def cofiCostFunc(params, Y, R, num_users, num_movies, num_features, lambda_=0.0):\n",
        "    \n",
        "    # Unfold the U and W matrices from params\n",
        "    X = params[:num_movies*num_features].reshape(num_movies, num_features)\n",
        "    Theta = params[num_movies*num_features:].reshape(num_users, num_features)\n",
        "\n",
        "    # Init.\n",
        "    J = 0\n",
        "    X_grad = np.zeros(X.shape)\n",
        "    Theta_grad = np.zeros(Theta.shape)\n",
        "\n",
        "    # Cost Func\n",
        "    J = 1 / 2 * np.sum(np.sum(R * (np.dot(X, Theta.T) - Y)**2))\n",
        "    J = J + (lambda_ / 2 * np.sum(np.sum(Theta**2))) + (lambda_ / 2 * np.sum(np.sum(X**2)))\n",
        "\n",
        "    # Gradient\n",
        "    \n",
        "    # movie\n",
        "    for i in range (num_movies):\n",
        "      idx = np.where(R[i, :] == 1)[0]\n",
        "      Theta_temp = Theta[idx, :]\n",
        "      Y_temp = Y[i, idx]\n",
        "      X_grad[i, :] = np.dot(np.dot(X[i, :], Theta_temp.T) - Y_temp, Theta_temp)\n",
        "      X_grad[i, :] = X_grad[i, :] + lambda_ * X[i,:]\n",
        "\n",
        "    # user\n",
        "    for j in range (num_users):\n",
        "      idx = np.where(R[:, j] == 1)[0]\n",
        "      X_temp = X[idx,:]\n",
        "      Y_temp = Y[idx, j]\n",
        "      Theta_grad[j,:] = np.dot(np.dot(X_temp, Theta[j,:].T) - Y_temp, X_temp)\n",
        "      Theta_grad[j,:] = Theta_grad[j,:] + lambda_ * Theta[j,:]\n",
        "          \n",
        "    grad = np.concatenate([X_grad.ravel(), Theta_grad.ravel()])\n",
        "    return J, grad\n",
        "\n",
        "## func2: load the fixed movice list (a list of movie names)\n",
        "def loadMovieList():\n",
        "    with open(os.path.join(prefix, customized_path_to_your_homework, 'Data', 'movie_ids.txt'),  encoding='ISO-8859-1') as fid:\n",
        "        movies = fid.readlines()\n",
        "\n",
        "    movieNames = []\n",
        "    for movie in movies:\n",
        "        parts = movie.split()\n",
        "        movieNames.append(' '.join(parts[1:]).strip())\n",
        "    return movieNames"
      ],
      "execution_count": 0,
      "outputs": []
    },
    {
      "cell_type": "code",
      "metadata": {
        "id": "3NthkBUdjTd2",
        "colab_type": "code",
        "colab": {}
      },
      "source": [
        "#  Check gradients by running checkcostFunction\n",
        "# utils.checkCostFunction(cofiCostFunc)\n",
        "# utils.checkCostFunction(cofiCostFunc, 1.5)"
      ],
      "execution_count": 0,
      "outputs": []
    },
    {
      "cell_type": "code",
      "metadata": {
        "id": "C7_I7DNpjTeG",
        "colab_type": "code",
        "outputId": "5e4c752d-e7ae-4e61-ae0b-5186823699d8",
        "colab": {
          "base_uri": "https://localhost:8080/",
          "height": 228
        }
      },
      "source": [
        "# Step1: add rating (a new user) 1 to 5 scales\n",
        "movieList = loadMovieList()\n",
        "n_m = len(movieList)\n",
        "my_ratings = np.zeros(n_m)\n",
        "\n",
        "my_ratings[0] = 4\n",
        "my_ratings[97] = 2\n",
        "my_ratings[6] = 3\n",
        "my_ratings[11]= 5\n",
        "my_ratings[53] = 4\n",
        "my_ratings[63] = 5\n",
        "my_ratings[65] = 3\n",
        "my_ratings[68] = 5\n",
        "my_ratings[182] = 4\n",
        "my_ratings[225] = 5\n",
        "my_ratings[354] = 5\n",
        "\n",
        "print('New user ratings:')\n",
        "print('-----------------')\n",
        "for i in range(len(my_ratings)):\n",
        "    if my_ratings[i] > 0:\n",
        "        print('Rated %d stars: %s' % (my_ratings[i], movieList[i]))"
      ],
      "execution_count": 44,
      "outputs": [
        {
          "output_type": "stream",
          "text": [
            "New user ratings:\n",
            "-----------------\n",
            "Rated 4 stars: Toy Story (1995)\n",
            "Rated 3 stars: Twelve Monkeys (1995)\n",
            "Rated 5 stars: Usual Suspects, The (1995)\n",
            "Rated 4 stars: Outbreak (1995)\n",
            "Rated 5 stars: Shawshank Redemption, The (1994)\n",
            "Rated 3 stars: While You Were Sleeping (1995)\n",
            "Rated 5 stars: Forrest Gump (1994)\n",
            "Rated 2 stars: Silence of the Lambs, The (1991)\n",
            "Rated 4 stars: Alien (1979)\n",
            "Rated 5 stars: Die Hard 2 (1990)\n",
            "Rated 5 stars: Sphere (1998)\n"
          ],
          "name": "stdout"
        }
      ]
    },
    {
      "cell_type": "code",
      "metadata": {
        "id": "FP5vEF9ujTeN",
        "colab_type": "code",
        "outputId": "8dcc5154-4b5a-4e02-d5ec-40d4f53b4c43",
        "colab": {
          "base_uri": "https://localhost:8080/",
          "height": 33
        }
      },
      "source": [
        "# Step2: train the collaborative filtering model on a movie rating with dataset of 1682 movies and 943 users\n",
        "\n",
        "#  Add new user\n",
        "Y = np.hstack([my_ratings[:, None], Y])\n",
        "R = np.hstack([(my_ratings > 0)[:, None], R])\n",
        "\n",
        "#  Normalize Ratings\n",
        "Ynorm, Ymean = utils.normalizeRatings(Y, R)\n",
        "\n",
        "# Init (Random initializations)\n",
        "num_movies, num_users = Y.shape\n",
        "num_features = 10\n",
        "X = np.random.randn(num_movies, num_features)\n",
        "Theta = np.random.randn(num_users, num_features)\n",
        "initial_parameters = np.concatenate([X.ravel(), Theta.ravel()])\n",
        "\n",
        "\n",
        "options = {'maxiter': 100} # Set options (maxiter) for scipy.optimize.minimize\n",
        "lambda_ = 10 # Set Regularization\n",
        "result = optimize.minimize(lambda x: cofiCostFunc(x, Ynorm, R, num_users, num_movies, num_features, lambda_),\n",
        "                        initial_parameters,\n",
        "                        method='TNC',\n",
        "                        jac=True,\n",
        "                        options=options)\n",
        "theta = result.x\n",
        "\n",
        "print('====Training Completed====')\n",
        "\n",
        "# Unfold the returned theta back into U and W\n",
        "X = theta[:num_movies*num_features].reshape(num_movies, num_features)\n",
        "Theta = theta[num_movies*num_features:].reshape(num_users, num_features)\n"
      ],
      "execution_count": 49,
      "outputs": [
        {
          "output_type": "stream",
          "text": [
            "Recommender system learning completed.\n"
          ],
          "name": "stdout"
        }
      ]
    },
    {
      "cell_type": "code",
      "metadata": {
        "id": "HAL1r-YAY0Ee",
        "colab_type": "code",
        "colab": {
          "base_uri": "https://localhost:8080/",
          "height": 440
        },
        "outputId": "af08b5a6-7067-4ba8-fe53-ce9abece0c71"
      },
      "source": [
        "# make recommendations by computing the predictions matrix\n",
        "p = np.dot(X, Theta.T)\n",
        "my_predictions = p[:, 0] + Ymean\n",
        "ix = np.argsort(my_predictions)[::-1]\n",
        "\n",
        "print('Top recommendations for you:')\n",
        "print('----------------------------')\n",
        "for i in range(10):\n",
        "    j = ix[i]\n",
        "    print('Predicting rating %.1f for movie %s' % (my_predictions[j], movieList[j]))\n",
        "\n",
        "print('\\nOriginal ratings provided (new user):')\n",
        "print('--------------------------')\n",
        "for i in range(len(my_ratings)):\n",
        "    if my_ratings[i] > 0:\n",
        "        print('Rated %d for %s' % (my_ratings[i], movieList[i]))"
      ],
      "execution_count": 51,
      "outputs": [
        {
          "output_type": "stream",
          "text": [
            "Top recommendations for you:\n",
            "----------------------------\n",
            "Predicting rating 5.0 for movie Santa with Muscles (1996)\n",
            "Predicting rating 5.0 for movie Star Kid (1997)\n",
            "Predicting rating 5.0 for movie They Made Me a Criminal (1939)\n",
            "Predicting rating 5.0 for movie Great Day in Harlem, A (1994)\n",
            "Predicting rating 5.0 for movie Prefontaine (1997)\n",
            "Predicting rating 5.0 for movie Entertaining Angels: The Dorothy Day Story (1996)\n",
            "Predicting rating 5.0 for movie Saint of Fort Washington, The (1993)\n",
            "Predicting rating 5.0 for movie Someone Else's America (1995)\n",
            "Predicting rating 5.0 for movie Marlene Dietrich: Shadow and Light (1996)\n",
            "Predicting rating 5.0 for movie Aiqing wansui (1994)\n",
            "\n",
            "Original ratings provided (new user):\n",
            "--------------------------\n",
            "Rated 4 for Toy Story (1995)\n",
            "Rated 3 for Twelve Monkeys (1995)\n",
            "Rated 5 for Usual Suspects, The (1995)\n",
            "Rated 4 for Outbreak (1995)\n",
            "Rated 5 for Shawshank Redemption, The (1994)\n",
            "Rated 3 for While You Were Sleeping (1995)\n",
            "Rated 5 for Forrest Gump (1994)\n",
            "Rated 2 for Silence of the Lambs, The (1991)\n",
            "Rated 4 for Alien (1979)\n",
            "Rated 5 for Die Hard 2 (1990)\n",
            "Rated 5 for Sphere (1998)\n"
          ],
          "name": "stdout"
        }
      ]
    }
  ]
}